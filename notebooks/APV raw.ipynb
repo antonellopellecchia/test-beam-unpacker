{
 "cells": [
  {
   "cell_type": "code",
   "execution_count": 1,
   "id": "70795a28",
   "metadata": {},
   "outputs": [],
   "source": [
    "import numpy as np\n",
    "import awkward as ak\n",
    "import uproot\n",
    "\n",
    "import matplotlib.pyplot as plt"
   ]
  },
  {
   "cell_type": "code",
   "execution_count": 8,
   "id": "d3c37f9a",
   "metadata": {},
   "outputs": [
    {
     "name": "stdout",
     "output_type": "stream",
     "text": [
      "['config;1', 'config/path_initial;1', 'config/path_config;1', 'config/daq_config_xml;1', 'config/srs_config_xml;1', 'config/det_config_xml;1', 'config/uRWELL.xml;1', 'config/pedestals_file_name;1', 'config/apv_zero_suppression_factor;1', 'config/comment;1', 'apv_raw;4', 'apv_raw;3', 'apv_raw_ped;1']\n"
     ]
    }
   ],
   "source": [
    "raw_file = uproot.open(\"/Users/anto/Downloads/run4.root\")\n",
    "print(raw_file.keys())"
   ]
  },
  {
   "cell_type": "code",
   "execution_count": 12,
   "id": "8a8f08a3",
   "metadata": {},
   "outputs": [
    {
     "name": "stdout",
     "output_type": "stream",
     "text": [
      "['evt', 'error', 'daqTimeSec', 'daqTimeMicroSec', 'srsTimeStamp', 'srsTrigger', 'srsFec', 'srsChip', 'srsChan', 'mmChamber', 'mmLayer', 'mmReadout', 'mmStrip', 'raw_q', 'max_q', 't_max_q']\n"
     ]
    }
   ],
   "source": [
    "raw_tree = raw_file[\"apv_raw\"]\n",
    "print(raw_tree.keys())"
   ]
  },
  {
   "cell_type": "code",
   "execution_count": 23,
   "id": "f9db736c",
   "metadata": {},
   "outputs": [
    {
     "ename": "ValueError",
     "evalue": "in AwkwardForth source code, line 7 col 1, input names, output names, variable names, and user-defined words must all be unique and not reserved words or integers:\n\n    output node0-offsets \n\n(https://github.com/scikit-hep/awkward/blob/awkward-cpp-7/awkward-cpp/src/libawkward/forth/ForthMachine.cpp#L1969)\n\nForth code generated for this data type:\n\ninput stream\n    input byteoffsets\n    input bytestops\n    output node0-offsets int64\noutput node1-offsets int64\noutput node2-data uint8\noutput node0-offsets int64\noutput node1-offsets int64\noutput node2-data uint8\n\n    0 node0-offsets <- stack\n0 node1-offsets <- stack\n0 node0-offsets <- stack\n0 node1-offsets <- stack\n\n    0 do\n    byteoffsets I-> stack\n    stream seek\n    6 stream skip\nstream !I-> stack\n dup node0-offsets +<- stack\n0 do\nstream !B-> stack dup 255 = if drop stream !I-> stack then dup node1-offsets +<- stack stream #!B-> node2-data\nloop\n6 stream skip\nstream !I-> stack\n dup node0-offsets +<- stack\n0 do\nstream !B-> stack dup 255 = if drop stream !I-> stack then dup node1-offsets +<- stack stream #!B-> node2-data\nloop\n\n    loop\n    ",
     "output_type": "error",
     "traceback": [
      "\u001b[0;31m---------------------------------------------------------------------------\u001b[0m",
      "\u001b[0;31mValueError\u001b[0m                                Traceback (most recent call last)",
      "File \u001b[0;32m~/Library/Python/3.10/lib/python/site-packages/uproot/interpretation/objects.py:232\u001b[0m, in \u001b[0;36mAsObjects.basket_array_forth\u001b[0;34m(self, data, byte_offsets, basket, branch, context, cursor_offset, library, options)\u001b[0m\n\u001b[1;32m    231\u001b[0m \u001b[38;5;28;01mtry\u001b[39;00m:\n\u001b[0;32m--> 232\u001b[0m     context[\u001b[38;5;124m\"\u001b[39m\u001b[38;5;124mforth\u001b[39m\u001b[38;5;124m\"\u001b[39m]\u001b[38;5;241m.\u001b[39mvm \u001b[38;5;241m=\u001b[39m \u001b[43mawkward\u001b[49m\u001b[38;5;241;43m.\u001b[39;49m\u001b[43mforth\u001b[49m\u001b[38;5;241;43m.\u001b[39;49m\u001b[43mForthMachine64\u001b[49m\u001b[43m(\u001b[49m\n\u001b[1;32m    233\u001b[0m \u001b[43m        \u001b[49m\u001b[38;5;28;43mself\u001b[39;49m\u001b[38;5;241;43m.\u001b[39;49m\u001b[43m_complete_forth_code\u001b[49m\n\u001b[1;32m    234\u001b[0m \u001b[43m    \u001b[49m\u001b[43m)\u001b[49m\n\u001b[1;32m    235\u001b[0m \u001b[38;5;28;01mexcept\u001b[39;00m \u001b[38;5;167;01mException\u001b[39;00m \u001b[38;5;28;01mas\u001b[39;00m err:\n",
      "\u001b[0;31mValueError\u001b[0m: in AwkwardForth source code, line 7 col 1, input names, output names, variable names, and user-defined words must all be unique and not reserved words or integers:\n\n    output node0-offsets \n\n(https://github.com/scikit-hep/awkward/blob/awkward-cpp-7/awkward-cpp/src/libawkward/forth/ForthMachine.cpp#L1969)",
      "\nThe above exception was the direct cause of the following exception:\n",
      "\u001b[0;31mValueError\u001b[0m                                Traceback (most recent call last)",
      "Cell \u001b[0;32mIn[23], line 1\u001b[0m\n\u001b[0;32m----> 1\u001b[0m raw_events \u001b[38;5;241m=\u001b[39m \u001b[43mraw_tree\u001b[49m\u001b[38;5;241;43m.\u001b[39;49m\u001b[43marrays\u001b[49m\u001b[43m(\u001b[49m\u001b[43m[\u001b[49m\u001b[38;5;124;43m\"\u001b[39;49m\u001b[38;5;124;43mevt\u001b[39;49m\u001b[38;5;124;43m\"\u001b[39;49m\u001b[43m,\u001b[49m\u001b[43m \u001b[49m\u001b[38;5;124;43m\"\u001b[39;49m\u001b[38;5;124;43mmax_q\u001b[39;49m\u001b[38;5;124;43m\"\u001b[39;49m\u001b[43m,\u001b[49m\u001b[43m \u001b[49m\u001b[38;5;124;43m\"\u001b[39;49m\u001b[38;5;124;43msrsChip\u001b[39;49m\u001b[38;5;124;43m\"\u001b[39;49m\u001b[43m,\u001b[49m\u001b[43m \u001b[49m\u001b[38;5;124;43m\"\u001b[39;49m\u001b[38;5;124;43msrsChan\u001b[39;49m\u001b[38;5;124;43m\"\u001b[39;49m\u001b[43m,\u001b[49m\u001b[43m \u001b[49m\u001b[38;5;124;43m\"\u001b[39;49m\u001b[38;5;124;43mraw_q\u001b[39;49m\u001b[38;5;124;43m\"\u001b[39;49m\u001b[43m]\u001b[49m\u001b[43m)\u001b[49m\n\u001b[1;32m      2\u001b[0m raw_events\n",
      "File \u001b[0;32m~/Library/Python/3.10/lib/python/site-packages/uproot/behaviors/TBranch.py:834\u001b[0m, in \u001b[0;36mHasBranches.arrays\u001b[0;34m(self, expressions, cut, filter_name, filter_typename, filter_branch, aliases, language, entry_start, entry_stop, decompression_executor, interpretation_executor, array_cache, library, ak_add_doc, how)\u001b[0m\n\u001b[1;32m    831\u001b[0m                 ranges_or_baskets\u001b[38;5;241m.\u001b[39mappend((branch, basket_num, range_or_basket))\n\u001b[1;32m    833\u001b[0m interp_options \u001b[38;5;241m=\u001b[39m {\u001b[38;5;124m\"\u001b[39m\u001b[38;5;124mak_add_doc\u001b[39m\u001b[38;5;124m\"\u001b[39m: ak_add_doc}\n\u001b[0;32m--> 834\u001b[0m \u001b[43m_ranges_or_baskets_to_arrays\u001b[49m\u001b[43m(\u001b[49m\n\u001b[1;32m    835\u001b[0m \u001b[43m    \u001b[49m\u001b[38;5;28;43mself\u001b[39;49m\u001b[43m,\u001b[49m\n\u001b[1;32m    836\u001b[0m \u001b[43m    \u001b[49m\u001b[43mranges_or_baskets\u001b[49m\u001b[43m,\u001b[49m\n\u001b[1;32m    837\u001b[0m \u001b[43m    \u001b[49m\u001b[43mbranchid_interpretation\u001b[49m\u001b[43m,\u001b[49m\n\u001b[1;32m    838\u001b[0m \u001b[43m    \u001b[49m\u001b[43mentry_start\u001b[49m\u001b[43m,\u001b[49m\n\u001b[1;32m    839\u001b[0m \u001b[43m    \u001b[49m\u001b[43mentry_stop\u001b[49m\u001b[43m,\u001b[49m\n\u001b[1;32m    840\u001b[0m \u001b[43m    \u001b[49m\u001b[43mdecompression_executor\u001b[49m\u001b[43m,\u001b[49m\n\u001b[1;32m    841\u001b[0m \u001b[43m    \u001b[49m\u001b[43minterpretation_executor\u001b[49m\u001b[43m,\u001b[49m\n\u001b[1;32m    842\u001b[0m \u001b[43m    \u001b[49m\u001b[43mlibrary\u001b[49m\u001b[43m,\u001b[49m\n\u001b[1;32m    843\u001b[0m \u001b[43m    \u001b[49m\u001b[43marrays\u001b[49m\u001b[43m,\u001b[49m\n\u001b[1;32m    844\u001b[0m \u001b[43m    \u001b[49m\u001b[38;5;28;43;01mFalse\u001b[39;49;00m\u001b[43m,\u001b[49m\n\u001b[1;32m    845\u001b[0m \u001b[43m    \u001b[49m\u001b[43minterp_options\u001b[49m\u001b[43m,\u001b[49m\n\u001b[1;32m    846\u001b[0m \u001b[43m\u001b[49m\u001b[43m)\u001b[49m\n\u001b[1;32m    848\u001b[0m \u001b[38;5;66;03m# no longer needed; save memory\u001b[39;00m\n\u001b[1;32m    849\u001b[0m \u001b[38;5;28;01mdel\u001b[39;00m ranges_or_baskets\n",
      "File \u001b[0;32m~/Library/Python/3.10/lib/python/site-packages/uproot/behaviors/TBranch.py:3124\u001b[0m, in \u001b[0;36m_ranges_or_baskets_to_arrays\u001b[0;34m(hasbranches, ranges_or_baskets, branchid_interpretation, entry_start, entry_stop, decompression_executor, interpretation_executor, library, arrays, update_ranges_or_baskets, interp_options)\u001b[0m\n\u001b[1;32m   3121\u001b[0m     \u001b[38;5;28;01mpass\u001b[39;00m\n\u001b[1;32m   3123\u001b[0m \u001b[38;5;28;01melif\u001b[39;00m \u001b[38;5;28misinstance\u001b[39m(obj, \u001b[38;5;28mtuple\u001b[39m) \u001b[38;5;129;01mand\u001b[39;00m \u001b[38;5;28mlen\u001b[39m(obj) \u001b[38;5;241m==\u001b[39m \u001b[38;5;241m3\u001b[39m:\n\u001b[0;32m-> 3124\u001b[0m     \u001b[43muproot\u001b[49m\u001b[38;5;241;43m.\u001b[39;49m\u001b[43msource\u001b[49m\u001b[38;5;241;43m.\u001b[39;49m\u001b[43mfutures\u001b[49m\u001b[38;5;241;43m.\u001b[39;49m\u001b[43mdelayed_raise\u001b[49m\u001b[43m(\u001b[49m\u001b[38;5;241;43m*\u001b[39;49m\u001b[43mobj\u001b[49m\u001b[43m)\u001b[49m\n\u001b[1;32m   3126\u001b[0m \u001b[38;5;28;01melse\u001b[39;00m:\n\u001b[1;32m   3127\u001b[0m     \u001b[38;5;28;01mraise\u001b[39;00m \u001b[38;5;167;01mAssertionError\u001b[39;00m(obj)\n",
      "File \u001b[0;32m~/Library/Python/3.10/lib/python/site-packages/uproot/source/futures.py:36\u001b[0m, in \u001b[0;36mdelayed_raise\u001b[0;34m(exception_class, exception_value, traceback)\u001b[0m\n\u001b[1;32m     32\u001b[0m \u001b[38;5;28;01mdef\u001b[39;00m \u001b[38;5;21mdelayed_raise\u001b[39m(exception_class, exception_value, traceback):\n\u001b[1;32m     33\u001b[0m     \u001b[38;5;124;03m\"\"\"\u001b[39;00m\n\u001b[1;32m     34\u001b[0m \u001b[38;5;124;03m    Raise an exception from a background thread on the main thread.\u001b[39;00m\n\u001b[1;32m     35\u001b[0m \u001b[38;5;124;03m    \"\"\"\u001b[39;00m\n\u001b[0;32m---> 36\u001b[0m     \u001b[38;5;28;01mraise\u001b[39;00m exception_value\u001b[38;5;241m.\u001b[39mwith_traceback(traceback)\n",
      "File \u001b[0;32m~/Library/Python/3.10/lib/python/site-packages/uproot/behaviors/TBranch.py:3066\u001b[0m, in \u001b[0;36m_ranges_or_baskets_to_arrays.<locals>.basket_to_array\u001b[0;34m(basket)\u001b[0m\n\u001b[1;32m   3063\u001b[0m context \u001b[38;5;241m=\u001b[39m \u001b[38;5;28mdict\u001b[39m(branch\u001b[38;5;241m.\u001b[39mcontext)\n\u001b[1;32m   3064\u001b[0m context[\u001b[38;5;124m\"\u001b[39m\u001b[38;5;124mforth\u001b[39m\u001b[38;5;124m\"\u001b[39m] \u001b[38;5;241m=\u001b[39m forth_context\n\u001b[0;32m-> 3066\u001b[0m basket_arrays[basket\u001b[38;5;241m.\u001b[39mbasket_num] \u001b[38;5;241m=\u001b[39m \u001b[43minterpretation\u001b[49m\u001b[38;5;241;43m.\u001b[39;49m\u001b[43mbasket_array\u001b[49m\u001b[43m(\u001b[49m\n\u001b[1;32m   3067\u001b[0m \u001b[43m    \u001b[49m\u001b[43mbasket\u001b[49m\u001b[38;5;241;43m.\u001b[39;49m\u001b[43mdata\u001b[49m\u001b[43m,\u001b[49m\n\u001b[1;32m   3068\u001b[0m \u001b[43m    \u001b[49m\u001b[43mbasket\u001b[49m\u001b[38;5;241;43m.\u001b[39;49m\u001b[43mbyte_offsets\u001b[49m\u001b[43m,\u001b[49m\n\u001b[1;32m   3069\u001b[0m \u001b[43m    \u001b[49m\u001b[43mbasket\u001b[49m\u001b[43m,\u001b[49m\n\u001b[1;32m   3070\u001b[0m \u001b[43m    \u001b[49m\u001b[43mbranch\u001b[49m\u001b[43m,\u001b[49m\n\u001b[1;32m   3071\u001b[0m \u001b[43m    \u001b[49m\u001b[43mcontext\u001b[49m\u001b[43m,\u001b[49m\n\u001b[1;32m   3072\u001b[0m \u001b[43m    \u001b[49m\u001b[43mbasket\u001b[49m\u001b[38;5;241;43m.\u001b[39;49m\u001b[43mmember\u001b[49m\u001b[43m(\u001b[49m\u001b[38;5;124;43m\"\u001b[39;49m\u001b[38;5;124;43mfKeylen\u001b[39;49m\u001b[38;5;124;43m\"\u001b[39;49m\u001b[43m)\u001b[49m\u001b[43m,\u001b[49m\n\u001b[1;32m   3073\u001b[0m \u001b[43m    \u001b[49m\u001b[43mlibrary\u001b[49m\u001b[43m,\u001b[49m\n\u001b[1;32m   3074\u001b[0m \u001b[43m    \u001b[49m\u001b[43minterp_options\u001b[49m\u001b[43m,\u001b[49m\n\u001b[1;32m   3075\u001b[0m \u001b[43m\u001b[49m\u001b[43m)\u001b[49m\n\u001b[1;32m   3076\u001b[0m \u001b[38;5;28;01mif\u001b[39;00m basket\u001b[38;5;241m.\u001b[39mnum_entries \u001b[38;5;241m!=\u001b[39m \u001b[38;5;28mlen\u001b[39m(basket_arrays[basket\u001b[38;5;241m.\u001b[39mbasket_num]):\n\u001b[1;32m   3077\u001b[0m     \u001b[38;5;28;01mraise\u001b[39;00m \u001b[38;5;167;01mValueError\u001b[39;00m(\n\u001b[1;32m   3078\u001b[0m         \u001b[38;5;124;03m\"\"\"basket {} in tree/branch {} has the wrong number of entries \"\"\"\u001b[39;00m\n\u001b[1;32m   3079\u001b[0m         \u001b[38;5;124;03m\"\"\"(expected {}, obtained {}) when interpreted as {}\u001b[39;00m\n\u001b[0;32m   (...)\u001b[0m\n\u001b[1;32m   3087\u001b[0m         )\n\u001b[1;32m   3088\u001b[0m     )\n",
      "File \u001b[0;32m~/Library/Python/3.10/lib/python/site-packages/uproot/interpretation/objects.py:139\u001b[0m, in \u001b[0;36mAsObjects.basket_array\u001b[0;34m(self, data, byte_offsets, basket, branch, context, cursor_offset, library, options)\u001b[0m\n\u001b[1;32m    136\u001b[0m \u001b[38;5;28;01massert\u001b[39;00m basket\u001b[38;5;241m.\u001b[39mbyte_offsets \u001b[38;5;129;01mis\u001b[39;00m \u001b[38;5;129;01mnot\u001b[39;00m \u001b[38;5;28;01mNone\u001b[39;00m\n\u001b[1;32m    138\u001b[0m \u001b[38;5;28;01mif\u001b[39;00m \u001b[38;5;28mself\u001b[39m\u001b[38;5;241m.\u001b[39m_forth \u001b[38;5;129;01mand\u001b[39;00m \u001b[38;5;28misinstance\u001b[39m(library, uproot\u001b[38;5;241m.\u001b[39minterpretation\u001b[38;5;241m.\u001b[39mlibrary\u001b[38;5;241m.\u001b[39mAwkward):\n\u001b[0;32m--> 139\u001b[0m     output \u001b[38;5;241m=\u001b[39m \u001b[38;5;28;43mself\u001b[39;49m\u001b[38;5;241;43m.\u001b[39;49m\u001b[43mbasket_array_forth\u001b[49m\u001b[43m(\u001b[49m\n\u001b[1;32m    140\u001b[0m \u001b[43m        \u001b[49m\u001b[43mdata\u001b[49m\u001b[43m,\u001b[49m\n\u001b[1;32m    141\u001b[0m \u001b[43m        \u001b[49m\u001b[43mbyte_offsets\u001b[49m\u001b[43m,\u001b[49m\n\u001b[1;32m    142\u001b[0m \u001b[43m        \u001b[49m\u001b[43mbasket\u001b[49m\u001b[43m,\u001b[49m\n\u001b[1;32m    143\u001b[0m \u001b[43m        \u001b[49m\u001b[43mbranch\u001b[49m\u001b[43m,\u001b[49m\n\u001b[1;32m    144\u001b[0m \u001b[43m        \u001b[49m\u001b[43mcontext\u001b[49m\u001b[43m,\u001b[49m\n\u001b[1;32m    145\u001b[0m \u001b[43m        \u001b[49m\u001b[43mcursor_offset\u001b[49m\u001b[43m,\u001b[49m\n\u001b[1;32m    146\u001b[0m \u001b[43m        \u001b[49m\u001b[43mlibrary\u001b[49m\u001b[43m,\u001b[49m\n\u001b[1;32m    147\u001b[0m \u001b[43m        \u001b[49m\u001b[43moptions\u001b[49m\u001b[43m,\u001b[49m\n\u001b[1;32m    148\u001b[0m \u001b[43m    \u001b[49m\u001b[43m)\u001b[49m\n\u001b[1;32m    149\u001b[0m \u001b[38;5;28;01melse\u001b[39;00m:\n\u001b[1;32m    150\u001b[0m     output \u001b[38;5;241m=\u001b[39m ObjectArray(\n\u001b[1;32m    151\u001b[0m         \u001b[38;5;28mself\u001b[39m\u001b[38;5;241m.\u001b[39m_model, branch, context, byte_offsets, data, cursor_offset\n\u001b[1;32m    152\u001b[0m     )\u001b[38;5;241m.\u001b[39mto_numpy()\n",
      "File \u001b[0;32m~/Library/Python/3.10/lib/python/site-packages/uproot/interpretation/objects.py:236\u001b[0m, in \u001b[0;36mAsObjects.basket_array_forth\u001b[0;34m(self, data, byte_offsets, basket, branch, context, cursor_offset, library, options)\u001b[0m\n\u001b[1;32m    232\u001b[0m         context[\u001b[38;5;124m\"\u001b[39m\u001b[38;5;124mforth\u001b[39m\u001b[38;5;124m\"\u001b[39m]\u001b[38;5;241m.\u001b[39mvm \u001b[38;5;241m=\u001b[39m awkward\u001b[38;5;241m.\u001b[39mforth\u001b[38;5;241m.\u001b[39mForthMachine64(\n\u001b[1;32m    233\u001b[0m             \u001b[38;5;28mself\u001b[39m\u001b[38;5;241m.\u001b[39m_complete_forth_code\n\u001b[1;32m    234\u001b[0m         )\n\u001b[1;32m    235\u001b[0m     \u001b[38;5;28;01mexcept\u001b[39;00m \u001b[38;5;167;01mException\u001b[39;00m \u001b[38;5;28;01mas\u001b[39;00m err:\n\u001b[0;32m--> 236\u001b[0m         \u001b[38;5;28;01mraise\u001b[39;00m \u001b[38;5;28mtype\u001b[39m(err)(\n\u001b[1;32m    237\u001b[0m             \u001b[38;5;28mstr\u001b[39m(err)\n\u001b[1;32m    238\u001b[0m             \u001b[38;5;241m+\u001b[39m \u001b[38;5;124m\"\u001b[39m\u001b[38;5;130;01m\\n\u001b[39;00m\u001b[38;5;130;01m\\n\u001b[39;00m\u001b[38;5;124mForth code generated for this data type:\u001b[39m\u001b[38;5;130;01m\\n\u001b[39;00m\u001b[38;5;130;01m\\n\u001b[39;00m\u001b[38;5;124m\"\u001b[39m\n\u001b[1;32m    239\u001b[0m             \u001b[38;5;241m+\u001b[39m \u001b[38;5;28mself\u001b[39m\u001b[38;5;241m.\u001b[39m_complete_forth_code\n\u001b[1;32m    240\u001b[0m         ) \u001b[38;5;28;01mfrom\u001b[39;00m \u001b[38;5;21;01merr\u001b[39;00m\n\u001b[1;32m    242\u001b[0m \u001b[38;5;66;03m# get data using Forth\u001b[39;00m\n\u001b[1;32m    243\u001b[0m byte_start \u001b[38;5;241m=\u001b[39m byte_offsets[\u001b[38;5;241m0\u001b[39m]\n",
      "\u001b[0;31mValueError\u001b[0m: in AwkwardForth source code, line 7 col 1, input names, output names, variable names, and user-defined words must all be unique and not reserved words or integers:\n\n    output node0-offsets \n\n(https://github.com/scikit-hep/awkward/blob/awkward-cpp-7/awkward-cpp/src/libawkward/forth/ForthMachine.cpp#L1969)\n\nForth code generated for this data type:\n\ninput stream\n    input byteoffsets\n    input bytestops\n    output node0-offsets int64\noutput node1-offsets int64\noutput node2-data uint8\noutput node0-offsets int64\noutput node1-offsets int64\noutput node2-data uint8\n\n    0 node0-offsets <- stack\n0 node1-offsets <- stack\n0 node0-offsets <- stack\n0 node1-offsets <- stack\n\n    0 do\n    byteoffsets I-> stack\n    stream seek\n    6 stream skip\nstream !I-> stack\n dup node0-offsets +<- stack\n0 do\nstream !B-> stack dup 255 = if drop stream !I-> stack then dup node1-offsets +<- stack stream #!B-> node2-data\nloop\n6 stream skip\nstream !I-> stack\n dup node0-offsets +<- stack\n0 do\nstream !B-> stack dup 255 = if drop stream !I-> stack then dup node1-offsets +<- stack stream #!B-> node2-data\nloop\n\n    loop\n    "
     ]
    }
   ],
   "source": [
    "raw_events = raw_tree.arrays([\"evt\", \"max_q\", \"srsChip\", \"srsChan\", \"raw_q\"])\n",
    "raw_events"
   ]
  },
  {
   "cell_type": "code",
   "execution_count": null,
   "id": "e929d90b",
   "metadata": {},
   "outputs": [],
   "source": []
  }
 ],
 "metadata": {
  "kernelspec": {
   "display_name": "Python 3 (ipykernel)",
   "language": "python",
   "name": "python3"
  },
  "language_info": {
   "codemirror_mode": {
    "name": "ipython",
    "version": 3
   },
   "file_extension": ".py",
   "mimetype": "text/x-python",
   "name": "python",
   "nbconvert_exporter": "python",
   "pygments_lexer": "ipython3",
   "version": "3.10.8"
  }
 },
 "nbformat": 4,
 "nbformat_minor": 5
}
